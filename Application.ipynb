{
 "cells": [
  {
   "cell_type": "code",
   "execution_count": 5,
   "id": "female-fashion",
   "metadata": {},
   "outputs": [
    {
     "data": {
      "text/plain": [
       "DeltaGenerator(_root_container=0, _provided_cursor=None, _parent=None, _block_type=None, _form_data=None)"
      ]
     },
     "execution_count": 5,
     "metadata": {},
     "output_type": "execute_result"
    }
   ],
   "source": [
    "import pandas as pd\n",
    "import streamlit as sl\n",
    "import yfinance as yf\n",
    "\n",
    "sl.write(\"\"\"\n",
    "# Simple Stock Price App\n",
    "\n",
    "These are stock cloing price and volume of Google\n",
    "\n",
    "\"\"\")\n",
    "#Define ticker symbol and get data on the ticker\n",
    "tickerSymbol = 'GOOGL'\n",
    "tickerData = yf.Ticker(tickerSymbol)\n",
    "\n",
    "# Get historical prices based on period\n",
    "\n",
    "tickerDf = tickerData.history(period='1d', start = '2010-5-31',end ='2020-5-31')\n",
    "\n",
    "sl.line_chart(tickerDf.Close)\n",
    "sl.line_chart(tickerDf.Volume)"
   ]
  },
  {
   "cell_type": "code",
   "execution_count": null,
   "id": "corresponding-governor",
   "metadata": {},
   "outputs": [],
   "source": []
  }
 ],
 "metadata": {
  "kernelspec": {
   "display_name": "Python 3",
   "language": "python",
   "name": "python3"
  },
  "language_info": {
   "codemirror_mode": {
    "name": "ipython",
    "version": 3
   },
   "file_extension": ".py",
   "mimetype": "text/x-python",
   "name": "python",
   "nbconvert_exporter": "python",
   "pygments_lexer": "ipython3",
   "version": "3.9.2"
  }
 },
 "nbformat": 4,
 "nbformat_minor": 5
}
